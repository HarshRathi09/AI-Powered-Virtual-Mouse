{
 "cells": [
  {
   "cell_type": "code",
   "execution_count": 77,
   "id": "33a2e990-93bb-4ce3-9598-3332bcf33089",
   "metadata": {},
   "outputs": [],
   "source": [
    "import cv2\n",
    "import mediapipe as mp\n",
    "import pyautogui\n",
    "import util\n",
    "import random\n",
    "from pynput.mouse import Button, Controller\n",
    "mouse = Controller()"
   ]
  },
  {
   "cell_type": "code",
   "execution_count": 78,
   "id": "aeaf403c-91b2-406b-a4d7-e57a52526c70",
   "metadata": {},
   "outputs": [],
   "source": [
    "screen_width, screen_height = pyautogui.size()\n",
    "\n",
    "mpHands = mp.solutions.hands\n",
    "hands = mpHands.Hands(\n",
    "    static_image_mode=False,\n",
    "    model_complexity=1,\n",
    "    min_detection_confidence=0.7,\n",
    "    min_tracking_confidence=0.7,\n",
    "    max_num_hands=1\n",
    ")"
   ]
  },
  {
   "cell_type": "code",
   "execution_count": 79,
   "id": "9e25d3f8-a787-48ed-966c-3383f820aec7",
   "metadata": {},
   "outputs": [],
   "source": [
    "def find_finger_tip(processed):\n",
    "    if processed.multi_hand_landmarks:\n",
    "        hand_landmarks = processed.multi_hand_landmarks[0]\n",
    "        return hand_landmarks.landmark[mpHands.HandLandmark.INDEX_FINGER_TIP]\n",
    "    return None        "
   ]
  },
  {
   "cell_type": "code",
   "execution_count": 80,
   "id": "05a15600-ce27-413d-80ad-b3f926195665",
   "metadata": {},
   "outputs": [],
   "source": [
    "def move_mouse(index_finger_tip):\n",
    "    if index_finger_tip is not None:\n",
    "        x = int(index_finger_tip.x * screen_width)\n",
    "        y = int(index_finger_tip.y * screen_height)\n",
    "        pyautogui.moveTo(x,y)"
   ]
  },
  {
   "cell_type": "code",
   "execution_count": 81,
   "id": "c793b27f-f3bb-44d0-b445-f3bf6fe131fb",
   "metadata": {},
   "outputs": [],
   "source": [
    "def is_left_click(landmarks_list, thumb_index_dist):\n",
    "    return (util.get_angle(landmarks_list[5], landmarks_list[6], landmarks_list[8]) < 50 and \n",
    "            util.get_angle(landmarks_list[9], landmarks_list[10], landmarks_list[12]) > 90 and\n",
    "           thumb_index_dist > 50)\n",
    "\n",
    "def is_right_click(landmarks_list, thumb_index_dist):\n",
    "    return (util.get_angle(landmarks_list[9], landmarks_list[10], landmarks_list[12]) < 50 and \n",
    "            util.get_angle(landmarks_list[5], landmarks_list[6], landmarks_list[8]) > 90 and\n",
    "           thumb_index_dist > 50)\n",
    "\n",
    "def is_double_click(landmarks_list, thumb_index_dist):\n",
    "    return (util.get_angle(landmarks_list[5], landmarks_list[6], landmarks_list[8]) < 50 and \n",
    "            util.get_angle(landmarks_list[9], landmarks_list[10], landmarks_list[12]) < 50 and\n",
    "           thumb_index_dist > 50)\n",
    "\n",
    "def is_screenshot(landmarks_list, thumb_index_dist):\n",
    "    return (util.get_angle(landmarks_list[5], landmarks_list[6], landmarks_list[8]) < 50 and \n",
    "            util.get_angle(landmarks_list[9], landmarks_list[10], landmarks_list[12]) < 50 and\n",
    "           thumb_index_dist < 50)"
   ]
  },
  {
   "cell_type": "code",
   "execution_count": 113,
   "id": "1a4f30ed-bdb4-4301-aedc-50df6cdaa9f8",
   "metadata": {},
   "outputs": [],
   "source": [
    "def detect_gestures(frame, landmarks_list, processed):\n",
    "    if len(landmarks_list) >= 21:\n",
    "\n",
    "        index_finger_tip = find_finger_tip(processed)\n",
    "        thumb_index_dist = util.get_distance([landmarks_list[4], landmarks_list[5]])\n",
    "        \n",
    "        if thumb_index_dist < 50 and util.get_angle(landmarks_list[5], landmarks_list[6], landmarks_list[8]) > 90:\n",
    "            move_mouse(index_finger_tip)\n",
    "\n",
    "        # LEFT CLICK\n",
    "        elif is_left_click(landmarks_list, thumb_index_dist):\n",
    "            mouse.press(Button.left)\n",
    "            mouse.release(Button.left)\n",
    "            cv2.putText(frame, \"Left Click\", (40,50), cv2.FONT_HERSHEY_COMPLEX, 1, (0, 140, 0), 2) \n",
    "\n",
    "        # RIGHT CLICK\n",
    "        elif is_right_click(landmarks_list, thumb_index_dist):\n",
    "            mouse.press(Button.right)\n",
    "            mouse.release(Button.right)\n",
    "            cv2.putText(frame, \"Right Click\", (40, 50), cv2.FONT_HERSHEY_COMPLEX, 1, (0, 0, 170), 2)\n",
    "\n",
    "        # DOUBLE CLICK\n",
    "        elif is_double_click(landmarks_list, thumb_index_dist):\n",
    "            pyautogui.doubleClick()\n",
    "            cv2.putText(frame, \"Double Click\", (40, 50), cv2.FONT_HERSHEY_COMPLEX, 1, (140, 0, 0), 2)\n",
    "       \n",
    "        # SCREENSHOT\n",
    "        elif is_screenshot(landmarks_list, thumb_index_dist):\n",
    "            im1 = pyautogui.screenshot()\n",
    "            label = random.randint(1, 1000)\n",
    "            im1.save(f'my_screenshot_{label}.png')\n",
    "            cv2.putText(frame, \"Screenshot taken\", (40, 50), cv2.FONT_HERSHEY_COMPLEX, 1, (0, 200, 250), 2)\n",
    "            "
   ]
  },
  {
   "cell_type": "code",
   "execution_count": 114,
   "id": "63260021-13a2-40ff-8b7a-002e7e237bc0",
   "metadata": {},
   "outputs": [],
   "source": [
    "def main():\n",
    "  cap = cv2.VideoCapture(0)\n",
    "  draw = mp.solutions.drawing_utils\n",
    "  try:\n",
    "    while cap.isOpened():\n",
    "      ret, frame = cap.read()\n",
    "\n",
    "      if not ret:\n",
    "        break\n",
    "      frame = cv2.flip(frame, 1)\n",
    "      frameRGB = cv2.cvtColor(frame, cv2.COLOR_BGR2RGB)\n",
    "      processed = hands.process(frameRGB)\n",
    "\n",
    "      landmarks_list = []\n",
    "        \n",
    "      if processed.multi_hand_landmarks:\n",
    "          hand_landmarks = processed.multi_hand_landmarks[0]\n",
    "          draw.draw_landmarks(frame, hand_landmarks, mpHands.HAND_CONNECTIONS)\n",
    "\n",
    "          \n",
    "          for lm in hand_landmarks.landmark:\n",
    "              landmarks_list.append((lm.x,lm.y))\n",
    "\n",
    "      detect_gestures(frame,landmarks_list,processed)\n",
    "           \n",
    "      cv2.imshow('Frame', frame)\n",
    "      if cv2.waitKey(1) & 0xFF == ord('q'):\n",
    "        break\n",
    "  finally:\n",
    "    cap.release()\n",
    "    cv2.destroyAllWindows()\n",
    "\n",
    "if __name__   == '__main__':\n",
    "  main()"
   ]
  },
  {
   "cell_type": "code",
   "execution_count": null,
   "id": "fa5b0277-e11e-4e8c-868c-4de855f819a9",
   "metadata": {},
   "outputs": [],
   "source": []
  }
 ],
 "metadata": {
  "kernelspec": {
   "display_name": "Python 3 (ipykernel)",
   "language": "python",
   "name": "python3"
  },
  "language_info": {
   "codemirror_mode": {
    "name": "ipython",
    "version": 3
   },
   "file_extension": ".py",
   "mimetype": "text/x-python",
   "name": "python",
   "nbconvert_exporter": "python",
   "pygments_lexer": "ipython3",
   "version": "3.8.10"
  }
 },
 "nbformat": 4,
 "nbformat_minor": 5
}
